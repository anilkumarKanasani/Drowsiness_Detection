{
 "cells": [
  {
   "cell_type": "code",
   "execution_count": 10,
   "metadata": {},
   "outputs": [
    {
     "name": "stdout",
     "output_type": "stream",
     "text": [
      "0\n",
      "0\n",
      "9820000\n"
     ]
    },
    {
     "name": "stderr",
     "output_type": "stream",
     "text": [
      "Exception in thread Thread-2097:\n",
      "Traceback (most recent call last):\n",
      "  File \"C:\\Users\\anilk\\Anaconda3\\envs\\opencv\\lib\\threading.py\", line 926, in _bootstrap_inner\n",
      "    self.run()\n",
      "  File \"C:\\Users\\anilk\\Anaconda3\\envs\\opencv\\lib\\threading.py\", line 870, in run\n",
      "    self._target(*self._args, **self._kwargs)\n",
      "  File \"<ipython-input-10-702c219b8f08>\", line 22, in start_sound\n",
      "    time.sleep(dur)\n",
      "OverflowError: sleep length is too large\n",
      "\n",
      "Exception in thread Thread-2098:\n",
      "Traceback (most recent call last):\n",
      "  File \"C:\\Users\\anilk\\Anaconda3\\envs\\opencv\\lib\\threading.py\", line 926, in _bootstrap_inner\n",
      "    self.run()\n",
      "  File \"C:\\Users\\anilk\\Anaconda3\\envs\\opencv\\lib\\threading.py\", line 870, in run\n",
      "    self._target(*self._args, **self._kwargs)\n",
      "  File \"<ipython-input-10-702c219b8f08>\", line 22, in start_sound\n",
      "    time.sleep(dur)\n",
      "OverflowError: sleep length is too large\n",
      "\n"
     ]
    },
    {
     "name": "stdout",
     "output_type": "stream",
     "text": [
      "9820000\n",
      "9820000\n"
     ]
    },
    {
     "name": "stderr",
     "output_type": "stream",
     "text": [
      "Exception in thread Thread-2099:\n",
      "Traceback (most recent call last):\n",
      "  File \"C:\\Users\\anilk\\Anaconda3\\envs\\opencv\\lib\\threading.py\", line 926, in _bootstrap_inner\n",
      "    self.run()\n",
      "  File \"C:\\Users\\anilk\\Anaconda3\\envs\\opencv\\lib\\threading.py\", line 870, in run\n",
      "    self._target(*self._args, **self._kwargs)\n",
      "  File \"<ipython-input-10-702c219b8f08>\", line 22, in start_sound\n",
      "    time.sleep(dur)\n",
      "OverflowError: sleep length is too large\n",
      "\n",
      "Exception in thread Thread-2100:\n",
      "Traceback (most recent call last):\n",
      "  File \"C:\\Users\\anilk\\Anaconda3\\envs\\opencv\\lib\\threading.py\", line 926, in _bootstrap_inner\n",
      "    self.run()\n",
      "  File \"C:\\Users\\anilk\\Anaconda3\\envs\\opencv\\lib\\threading.py\", line 870, in run\n",
      "    self._target(*self._args, **self._kwargs)\n",
      "  File \"<ipython-input-10-702c219b8f08>\", line 22, in start_sound\n",
      "    time.sleep(dur)\n",
      "OverflowError: sleep length is too large\n",
      "\n"
     ]
    },
    {
     "name": "stdout",
     "output_type": "stream",
     "text": [
      "9867000\n",
      "9867000\n"
     ]
    },
    {
     "name": "stderr",
     "output_type": "stream",
     "text": [
      "Exception in thread Thread-2101:\n",
      "Traceback (most recent call last):\n",
      "  File \"C:\\Users\\anilk\\Anaconda3\\envs\\opencv\\lib\\threading.py\", line 926, in _bootstrap_inner\n",
      "    self.run()\n",
      "  File \"C:\\Users\\anilk\\Anaconda3\\envs\\opencv\\lib\\threading.py\", line 870, in run\n",
      "    self._target(*self._args, **self._kwargs)\n",
      "  File \"<ipython-input-10-702c219b8f08>\", line 22, in start_sound\n",
      "    time.sleep(dur)\n",
      "OverflowError: sleep length is too large\n",
      "\n",
      "Exception in thread Thread-2102:\n",
      "Traceback (most recent call last):\n",
      "  File \"C:\\Users\\anilk\\Anaconda3\\envs\\opencv\\lib\\threading.py\", line 926, in _bootstrap_inner\n",
      "    self.run()\n",
      "  File \"C:\\Users\\anilk\\Anaconda3\\envs\\opencv\\lib\\threading.py\", line 870, in run\n",
      "    self._target(*self._args, **self._kwargs)\n",
      "  File \"<ipython-input-10-702c219b8f08>\", line 22, in start_sound\n",
      "    time.sleep(dur)\n",
      "OverflowError: sleep length is too large\n",
      "\n"
     ]
    },
    {
     "name": "stdout",
     "output_type": "stream",
     "text": [
      "9867000\n",
      "9867000\n"
     ]
    },
    {
     "name": "stderr",
     "output_type": "stream",
     "text": [
      "Exception in thread Thread-2103:\n",
      "Traceback (most recent call last):\n",
      "  File \"C:\\Users\\anilk\\Anaconda3\\envs\\opencv\\lib\\threading.py\", line 926, in _bootstrap_inner\n",
      "    self.run()\n",
      "  File \"C:\\Users\\anilk\\Anaconda3\\envs\\opencv\\lib\\threading.py\", line 870, in run\n",
      "    self._target(*self._args, **self._kwargs)\n",
      "  File \"<ipython-input-10-702c219b8f08>\", line 22, in start_sound\n",
      "    time.sleep(dur)\n",
      "OverflowError: sleep length is too large\n",
      "\n",
      "Exception in thread Thread-2104:\n",
      "Traceback (most recent call last):\n",
      "  File \"C:\\Users\\anilk\\Anaconda3\\envs\\opencv\\lib\\threading.py\", line 926, in _bootstrap_inner\n",
      "    self.run()\n",
      "  File \"C:\\Users\\anilk\\Anaconda3\\envs\\opencv\\lib\\threading.py\", line 870, in run\n",
      "    self._target(*self._args, **self._kwargs)\n",
      "  File \"<ipython-input-10-702c219b8f08>\", line 22, in start_sound\n",
      "    time.sleep(dur)\n",
      "OverflowError: sleep length is too large\n",
      "\n"
     ]
    },
    {
     "name": "stdout",
     "output_type": "stream",
     "text": [
      "9867000\n",
      "9867000\n"
     ]
    },
    {
     "name": "stderr",
     "output_type": "stream",
     "text": [
      "Exception in thread Thread-2105:\n",
      "Traceback (most recent call last):\n",
      "  File \"C:\\Users\\anilk\\Anaconda3\\envs\\opencv\\lib\\threading.py\", line 926, in _bootstrap_inner\n",
      "    self.run()\n",
      "  File \"C:\\Users\\anilk\\Anaconda3\\envs\\opencv\\lib\\threading.py\", line 870, in run\n",
      "    self._target(*self._args, **self._kwargs)\n",
      "  File \"<ipython-input-10-702c219b8f08>\", line 22, in start_sound\n",
      "    time.sleep(dur)\n",
      "OverflowError: sleep length is too large\n",
      "\n",
      "Exception in thread Thread-2106:\n",
      "Traceback (most recent call last):\n",
      "  File \"C:\\Users\\anilk\\Anaconda3\\envs\\opencv\\lib\\threading.py\", line 926, in _bootstrap_inner\n",
      "    self.run()\n",
      "  File \"C:\\Users\\anilk\\Anaconda3\\envs\\opencv\\lib\\threading.py\", line 870, in run\n",
      "    self._target(*self._args, **self._kwargs)\n",
      "  File \"<ipython-input-10-702c219b8f08>\", line 22, in start_sound\n",
      "    time.sleep(dur)\n",
      "OverflowError: sleep length is too large\n",
      "\n"
     ]
    },
    {
     "name": "stdout",
     "output_type": "stream",
     "text": [
      "9867000\n",
      "9867000\n"
     ]
    },
    {
     "name": "stderr",
     "output_type": "stream",
     "text": [
      "Exception in thread Thread-2107:\n",
      "Traceback (most recent call last):\n",
      "  File \"C:\\Users\\anilk\\Anaconda3\\envs\\opencv\\lib\\threading.py\", line 926, in _bootstrap_inner\n",
      "    self.run()\n",
      "  File \"C:\\Users\\anilk\\Anaconda3\\envs\\opencv\\lib\\threading.py\", line 870, in run\n",
      "    self._target(*self._args, **self._kwargs)\n",
      "  File \"<ipython-input-10-702c219b8f08>\", line 22, in start_sound\n",
      "    time.sleep(dur)\n",
      "OverflowError: sleep length is too large\n",
      "\n",
      "Exception in thread Thread-2108:\n",
      "Traceback (most recent call last):\n",
      "  File \"C:\\Users\\anilk\\Anaconda3\\envs\\opencv\\lib\\threading.py\", line 926, in _bootstrap_inner\n",
      "    self.run()\n",
      "  File \"C:\\Users\\anilk\\Anaconda3\\envs\\opencv\\lib\\threading.py\", line 870, in run\n",
      "    self._target(*self._args, **self._kwargs)\n",
      "  File \"<ipython-input-10-702c219b8f08>\", line 22, in start_sound\n",
      "    time.sleep(dur)\n",
      "OverflowError: sleep length is too large\n",
      "\n"
     ]
    },
    {
     "name": "stdout",
     "output_type": "stream",
     "text": [
      "9867000\n",
      "9867000\n"
     ]
    },
    {
     "name": "stderr",
     "output_type": "stream",
     "text": [
      "Exception in thread Thread-2109:\n",
      "Traceback (most recent call last):\n",
      "  File \"C:\\Users\\anilk\\Anaconda3\\envs\\opencv\\lib\\threading.py\", line 926, in _bootstrap_inner\n",
      "    self.run()\n",
      "  File \"C:\\Users\\anilk\\Anaconda3\\envs\\opencv\\lib\\threading.py\", line 870, in run\n",
      "    self._target(*self._args, **self._kwargs)\n",
      "  File \"<ipython-input-10-702c219b8f08>\", line 22, in start_sound\n",
      "    time.sleep(dur)\n",
      "OverflowError: sleep length is too large\n",
      "\n",
      "Exception in thread Thread-2110:\n",
      "Traceback (most recent call last):\n",
      "  File \"C:\\Users\\anilk\\Anaconda3\\envs\\opencv\\lib\\threading.py\", line 926, in _bootstrap_inner\n",
      "    self.run()\n",
      "  File \"C:\\Users\\anilk\\Anaconda3\\envs\\opencv\\lib\\threading.py\", line 870, in run\n",
      "    self._target(*self._args, **self._kwargs)\n",
      "  File \"<ipython-input-10-702c219b8f08>\", line 22, in start_sound\n",
      "    time.sleep(dur)\n",
      "OverflowError: sleep length is too large\n",
      "\n"
     ]
    },
    {
     "name": "stdout",
     "output_type": "stream",
     "text": [
      "9867000\n",
      "9867000\n"
     ]
    },
    {
     "name": "stderr",
     "output_type": "stream",
     "text": [
      "Exception in thread Thread-2111:\n",
      "Traceback (most recent call last):\n",
      "  File \"C:\\Users\\anilk\\Anaconda3\\envs\\opencv\\lib\\threading.py\", line 926, in _bootstrap_inner\n",
      "    self.run()\n",
      "  File \"C:\\Users\\anilk\\Anaconda3\\envs\\opencv\\lib\\threading.py\", line 870, in run\n",
      "    self._target(*self._args, **self._kwargs)\n",
      "  File \"<ipython-input-10-702c219b8f08>\", line 22, in start_sound\n",
      "    time.sleep(dur)\n",
      "OverflowError: sleep length is too large\n",
      "\n",
      "Exception in thread Thread-2112:\n",
      "Traceback (most recent call last):\n",
      "  File \"C:\\Users\\anilk\\Anaconda3\\envs\\opencv\\lib\\threading.py\", line 926, in _bootstrap_inner\n",
      "    self.run()\n",
      "  File \"C:\\Users\\anilk\\Anaconda3\\envs\\opencv\\lib\\threading.py\", line 870, in run\n",
      "    self._target(*self._args, **self._kwargs)\n",
      "  File \"<ipython-input-10-702c219b8f08>\", line 22, in start_sound\n",
      "    time.sleep(dur)\n",
      "OverflowError: sleep length is too large\n",
      "\n"
     ]
    },
    {
     "name": "stdout",
     "output_type": "stream",
     "text": [
      "9867000\n",
      "9867000\n"
     ]
    },
    {
     "name": "stderr",
     "output_type": "stream",
     "text": [
      "Exception in thread Thread-2113:\n",
      "Traceback (most recent call last):\n",
      "  File \"C:\\Users\\anilk\\Anaconda3\\envs\\opencv\\lib\\threading.py\", line 926, in _bootstrap_inner\n",
      "    self.run()\n",
      "  File \"C:\\Users\\anilk\\Anaconda3\\envs\\opencv\\lib\\threading.py\", line 870, in run\n",
      "    self._target(*self._args, **self._kwargs)\n",
      "  File \"<ipython-input-10-702c219b8f08>\", line 22, in start_sound\n",
      "    time.sleep(dur)\n",
      "OverflowError: sleep length is too large\n",
      "\n",
      "Exception in thread Thread-2114:\n",
      "Traceback (most recent call last):\n",
      "  File \"C:\\Users\\anilk\\Anaconda3\\envs\\opencv\\lib\\threading.py\", line 926, in _bootstrap_inner\n",
      "    self.run()\n",
      "  File \"C:\\Users\\anilk\\Anaconda3\\envs\\opencv\\lib\\threading.py\", line 870, in run\n",
      "    self._target(*self._args, **self._kwargs)\n",
      "  File \"<ipython-input-10-702c219b8f08>\", line 22, in start_sound\n",
      "    time.sleep(dur)\n",
      "OverflowError: sleep length is too large\n",
      "\n"
     ]
    },
    {
     "name": "stdout",
     "output_type": "stream",
     "text": [
      "9867000\n",
      "9867000\n"
     ]
    },
    {
     "name": "stderr",
     "output_type": "stream",
     "text": [
      "Exception in thread Thread-2115:\n",
      "Traceback (most recent call last):\n",
      "  File \"C:\\Users\\anilk\\Anaconda3\\envs\\opencv\\lib\\threading.py\", line 926, in _bootstrap_inner\n",
      "    self.run()\n",
      "  File \"C:\\Users\\anilk\\Anaconda3\\envs\\opencv\\lib\\threading.py\", line 870, in run\n",
      "    self._target(*self._args, **self._kwargs)\n",
      "  File \"<ipython-input-10-702c219b8f08>\", line 22, in start_sound\n",
      "    time.sleep(dur)\n",
      "OverflowError: sleep length is too large\n",
      "\n",
      "Exception in thread Thread-2116:\n",
      "Traceback (most recent call last):\n",
      "  File \"C:\\Users\\anilk\\Anaconda3\\envs\\opencv\\lib\\threading.py\", line 926, in _bootstrap_inner\n",
      "    self.run()\n",
      "  File \"C:\\Users\\anilk\\Anaconda3\\envs\\opencv\\lib\\threading.py\", line 870, in run\n",
      "    self._target(*self._args, **self._kwargs)\n",
      "  File \"<ipython-input-10-702c219b8f08>\", line 22, in start_sound\n",
      "    time.sleep(dur)\n",
      "OverflowError: sleep length is too large\n",
      "\n"
     ]
    },
    {
     "name": "stdout",
     "output_type": "stream",
     "text": [
      "9867000\n",
      "9867000\n"
     ]
    },
    {
     "name": "stderr",
     "output_type": "stream",
     "text": [
      "Exception in thread Thread-2117:\n",
      "Traceback (most recent call last):\n",
      "  File \"C:\\Users\\anilk\\Anaconda3\\envs\\opencv\\lib\\threading.py\", line 926, in _bootstrap_inner\n",
      "    self.run()\n",
      "  File \"C:\\Users\\anilk\\Anaconda3\\envs\\opencv\\lib\\threading.py\", line 870, in run\n",
      "    self._target(*self._args, **self._kwargs)\n",
      "  File \"<ipython-input-10-702c219b8f08>\", line 22, in start_sound\n",
      "    time.sleep(dur)\n",
      "OverflowError: sleep length is too large\n",
      "\n",
      "Exception in thread Thread-2118:\n",
      "Traceback (most recent call last):\n",
      "  File \"C:\\Users\\anilk\\Anaconda3\\envs\\opencv\\lib\\threading.py\", line 926, in _bootstrap_inner\n",
      "    self.run()\n",
      "  File \"C:\\Users\\anilk\\Anaconda3\\envs\\opencv\\lib\\threading.py\", line 870, in run\n",
      "    self._target(*self._args, **self._kwargs)\n",
      "  File \"<ipython-input-10-702c219b8f08>\", line 22, in start_sound\n",
      "    time.sleep(dur)\n",
      "OverflowError: sleep length is too large\n",
      "\n",
      "Exception in thread Thread-2119:\n",
      "Traceback (most recent call last):\n",
      "  File \"C:\\Users\\anilk\\Anaconda3\\envs\\opencv\\lib\\threading.py\", line 926, in _bootstrap_inner\n",
      "    self.run()\n",
      "  File \"C:\\Users\\anilk\\Anaconda3\\envs\\opencv\\lib\\threading.py\", line 870, in run\n",
      "    self._target(*self._args, **self._kwargs)\n",
      "  File \"<ipython-input-10-702c219b8f08>\", line 22, in start_sound\n",
      "    time.sleep(dur)\n",
      "OverflowError: sleep length is too large\n",
      "\n"
     ]
    },
    {
     "name": "stdout",
     "output_type": "stream",
     "text": [
      "9867000\n",
      "9867000\n",
      "9867000\n",
      "9867000\n"
     ]
    },
    {
     "name": "stderr",
     "output_type": "stream",
     "text": [
      "Exception in thread Thread-2120:\n",
      "Traceback (most recent call last):\n",
      "  File \"C:\\Users\\anilk\\Anaconda3\\envs\\opencv\\lib\\threading.py\", line 926, in _bootstrap_inner\n",
      "    self.run()\n",
      "  File \"C:\\Users\\anilk\\Anaconda3\\envs\\opencv\\lib\\threading.py\", line 870, in run\n",
      "    self._target(*self._args, **self._kwargs)\n",
      "  File \"<ipython-input-10-702c219b8f08>\", line 22, in start_sound\n",
      "    time.sleep(dur)\n",
      "OverflowError: sleep length is too large\n",
      "\n",
      "Exception in thread Thread-2121:\n",
      "Traceback (most recent call last):\n",
      "  File \"C:\\Users\\anilk\\Anaconda3\\envs\\opencv\\lib\\threading.py\", line 926, in _bootstrap_inner\n",
      "    self.run()\n",
      "  File \"C:\\Users\\anilk\\Anaconda3\\envs\\opencv\\lib\\threading.py\", line 870, in run\n",
      "    self._target(*self._args, **self._kwargs)\n",
      "  File \"<ipython-input-10-702c219b8f08>\", line 22, in start_sound\n",
      "    time.sleep(dur)\n",
      "OverflowError: sleep length is too large\n",
      "\n"
     ]
    },
    {
     "name": "stdout",
     "output_type": "stream",
     "text": [
      "9867000\n",
      "9867000\n"
     ]
    },
    {
     "name": "stderr",
     "output_type": "stream",
     "text": [
      "Exception in thread Thread-2122:\n",
      "Traceback (most recent call last):\n",
      "  File \"C:\\Users\\anilk\\Anaconda3\\envs\\opencv\\lib\\threading.py\", line 926, in _bootstrap_inner\n",
      "    self.run()\n",
      "  File \"C:\\Users\\anilk\\Anaconda3\\envs\\opencv\\lib\\threading.py\", line 870, in run\n",
      "    self._target(*self._args, **self._kwargs)\n",
      "  File \"<ipython-input-10-702c219b8f08>\", line 22, in start_sound\n",
      "    time.sleep(dur)\n",
      "OverflowError: sleep length is too large\n",
      "\n",
      "Exception in thread Thread-2123:\n",
      "Traceback (most recent call last):\n",
      "  File \"C:\\Users\\anilk\\Anaconda3\\envs\\opencv\\lib\\threading.py\", line 926, in _bootstrap_inner\n",
      "    self.run()\n",
      "  File \"C:\\Users\\anilk\\Anaconda3\\envs\\opencv\\lib\\threading.py\", line 870, in run\n",
      "    self._target(*self._args, **self._kwargs)\n",
      "  File \"<ipython-input-10-702c219b8f08>\", line 22, in start_sound\n",
      "    time.sleep(dur)\n",
      "OverflowError: sleep length is too large\n",
      "\n"
     ]
    },
    {
     "name": "stdout",
     "output_type": "stream",
     "text": [
      "9867000\n",
      "9867000\n"
     ]
    },
    {
     "name": "stderr",
     "output_type": "stream",
     "text": [
      "Exception in thread Thread-2124:\n",
      "Traceback (most recent call last):\n",
      "  File \"C:\\Users\\anilk\\Anaconda3\\envs\\opencv\\lib\\threading.py\", line 926, in _bootstrap_inner\n",
      "    self.run()\n",
      "  File \"C:\\Users\\anilk\\Anaconda3\\envs\\opencv\\lib\\threading.py\", line 870, in run\n",
      "    self._target(*self._args, **self._kwargs)\n",
      "  File \"<ipython-input-10-702c219b8f08>\", line 22, in start_sound\n",
      "    time.sleep(dur)\n",
      "OverflowError: sleep length is too large\n",
      "\n",
      "Exception in thread Thread-2125:\n",
      "Traceback (most recent call last):\n",
      "  File \"C:\\Users\\anilk\\Anaconda3\\envs\\opencv\\lib\\threading.py\", line 926, in _bootstrap_inner\n",
      "    self.run()\n",
      "  File \"C:\\Users\\anilk\\Anaconda3\\envs\\opencv\\lib\\threading.py\", line 870, in run\n",
      "    self._target(*self._args, **self._kwargs)\n",
      "  File \"<ipython-input-10-702c219b8f08>\", line 22, in start_sound\n",
      "    time.sleep(dur)\n",
      "OverflowError: sleep length is too large\n",
      "\n"
     ]
    },
    {
     "name": "stdout",
     "output_type": "stream",
     "text": [
      "9867000\n",
      "9867000\n"
     ]
    },
    {
     "name": "stderr",
     "output_type": "stream",
     "text": [
      "Exception in thread Thread-2126:\n",
      "Traceback (most recent call last):\n",
      "  File \"C:\\Users\\anilk\\Anaconda3\\envs\\opencv\\lib\\threading.py\", line 926, in _bootstrap_inner\n",
      "    self.run()\n",
      "  File \"C:\\Users\\anilk\\Anaconda3\\envs\\opencv\\lib\\threading.py\", line 870, in run\n",
      "    self._target(*self._args, **self._kwargs)\n",
      "  File \"<ipython-input-10-702c219b8f08>\", line 22, in start_sound\n",
      "    time.sleep(dur)\n",
      "OverflowError: sleep length is too large\n",
      "\n",
      "Exception in thread Thread-2127:\n",
      "Traceback (most recent call last):\n",
      "  File \"C:\\Users\\anilk\\Anaconda3\\envs\\opencv\\lib\\threading.py\", line 926, in _bootstrap_inner\n",
      "    self.run()\n",
      "  File \"C:\\Users\\anilk\\Anaconda3\\envs\\opencv\\lib\\threading.py\", line 870, in run\n",
      "    self._target(*self._args, **self._kwargs)\n",
      "  File \"<ipython-input-10-702c219b8f08>\", line 22, in start_sound\n",
      "    time.sleep(dur)\n",
      "OverflowError: sleep length is too large\n",
      "\n"
     ]
    },
    {
     "name": "stdout",
     "output_type": "stream",
     "text": [
      "9867000\n",
      "9867000\n"
     ]
    },
    {
     "name": "stderr",
     "output_type": "stream",
     "text": [
      "Exception in thread Thread-2128:\n",
      "Traceback (most recent call last):\n",
      "  File \"C:\\Users\\anilk\\Anaconda3\\envs\\opencv\\lib\\threading.py\", line 926, in _bootstrap_inner\n",
      "    self.run()\n",
      "  File \"C:\\Users\\anilk\\Anaconda3\\envs\\opencv\\lib\\threading.py\", line 870, in run\n",
      "    self._target(*self._args, **self._kwargs)\n",
      "  File \"<ipython-input-10-702c219b8f08>\", line 22, in start_sound\n",
      "    time.sleep(dur)\n",
      "OverflowError: sleep length is too large\n",
      "\n",
      "Exception in thread Thread-2129:\n",
      "Traceback (most recent call last):\n",
      "  File \"C:\\Users\\anilk\\Anaconda3\\envs\\opencv\\lib\\threading.py\", line 926, in _bootstrap_inner\n",
      "    self.run()\n",
      "  File \"C:\\Users\\anilk\\Anaconda3\\envs\\opencv\\lib\\threading.py\", line 870, in run\n",
      "    self._target(*self._args, **self._kwargs)\n",
      "  File \"<ipython-input-10-702c219b8f08>\", line 22, in start_sound\n",
      "    time.sleep(dur)\n",
      "OverflowError: sleep length is too large\n",
      "\n"
     ]
    },
    {
     "name": "stdout",
     "output_type": "stream",
     "text": [
      "9867000\n",
      "9867000\n"
     ]
    },
    {
     "name": "stderr",
     "output_type": "stream",
     "text": [
      "Exception in thread Thread-2130:\n",
      "Traceback (most recent call last):\n",
      "  File \"C:\\Users\\anilk\\Anaconda3\\envs\\opencv\\lib\\threading.py\", line 926, in _bootstrap_inner\n",
      "    self.run()\n",
      "  File \"C:\\Users\\anilk\\Anaconda3\\envs\\opencv\\lib\\threading.py\", line 870, in run\n",
      "    self._target(*self._args, **self._kwargs)\n",
      "  File \"<ipython-input-10-702c219b8f08>\", line 22, in start_sound\n",
      "    time.sleep(dur)\n",
      "OverflowError: sleep length is too large\n",
      "\n",
      "Exception in thread Thread-2131:\n",
      "Traceback (most recent call last):\n",
      "  File \"C:\\Users\\anilk\\Anaconda3\\envs\\opencv\\lib\\threading.py\", line 926, in _bootstrap_inner\n",
      "    self.run()\n",
      "  File \"C:\\Users\\anilk\\Anaconda3\\envs\\opencv\\lib\\threading.py\", line 870, in run\n",
      "    self._target(*self._args, **self._kwargs)\n",
      "  File \"<ipython-input-10-702c219b8f08>\", line 22, in start_sound\n",
      "    time.sleep(dur)\n",
      "OverflowError: sleep length is too large\n",
      "\n"
     ]
    },
    {
     "name": "stdout",
     "output_type": "stream",
     "text": [
      "9867000\n",
      "9867000\n"
     ]
    },
    {
     "name": "stderr",
     "output_type": "stream",
     "text": [
      "Exception in thread Thread-2132:\n",
      "Traceback (most recent call last):\n",
      "  File \"C:\\Users\\anilk\\Anaconda3\\envs\\opencv\\lib\\threading.py\", line 926, in _bootstrap_inner\n",
      "    self.run()\n",
      "  File \"C:\\Users\\anilk\\Anaconda3\\envs\\opencv\\lib\\threading.py\", line 870, in run\n",
      "    self._target(*self._args, **self._kwargs)\n",
      "  File \"<ipython-input-10-702c219b8f08>\", line 22, in start_sound\n",
      "    time.sleep(dur)\n",
      "OverflowError: sleep length is too large\n",
      "\n",
      "Exception in thread Thread-2133:\n",
      "Traceback (most recent call last):\n",
      "  File \"C:\\Users\\anilk\\Anaconda3\\envs\\opencv\\lib\\threading.py\", line 926, in _bootstrap_inner\n",
      "    self.run()\n",
      "  File \"C:\\Users\\anilk\\Anaconda3\\envs\\opencv\\lib\\threading.py\", line 870, in run\n",
      "    self._target(*self._args, **self._kwargs)\n",
      "  File \"<ipython-input-10-702c219b8f08>\", line 22, in start_sound\n",
      "    time.sleep(dur)\n",
      "OverflowError: sleep length is too large\n",
      "\n"
     ]
    },
    {
     "name": "stdout",
     "output_type": "stream",
     "text": [
      "9867000\n",
      "9867000\n"
     ]
    },
    {
     "name": "stderr",
     "output_type": "stream",
     "text": [
      "Exception in thread Thread-2134:\n",
      "Traceback (most recent call last):\n",
      "  File \"C:\\Users\\anilk\\Anaconda3\\envs\\opencv\\lib\\threading.py\", line 926, in _bootstrap_inner\n",
      "    self.run()\n",
      "  File \"C:\\Users\\anilk\\Anaconda3\\envs\\opencv\\lib\\threading.py\", line 870, in run\n",
      "    self._target(*self._args, **self._kwargs)\n",
      "  File \"<ipython-input-10-702c219b8f08>\", line 22, in start_sound\n",
      "    time.sleep(dur)\n",
      "OverflowError: sleep length is too large\n",
      "\n",
      "Exception in thread Thread-2135:\n",
      "Traceback (most recent call last):\n",
      "  File \"C:\\Users\\anilk\\Anaconda3\\envs\\opencv\\lib\\threading.py\", line 926, in _bootstrap_inner\n",
      "    self.run()\n",
      "  File \"C:\\Users\\anilk\\Anaconda3\\envs\\opencv\\lib\\threading.py\", line 870, in run\n",
      "    self._target(*self._args, **self._kwargs)\n",
      "  File \"<ipython-input-10-702c219b8f08>\", line 22, in start_sound\n",
      "    time.sleep(dur)\n",
      "OverflowError: sleep length is too large\n",
      "\n"
     ]
    },
    {
     "name": "stdout",
     "output_type": "stream",
     "text": [
      "9867000\n",
      "9867000\n"
     ]
    },
    {
     "name": "stderr",
     "output_type": "stream",
     "text": [
      "Exception in thread Thread-2136:\n",
      "Traceback (most recent call last):\n",
      "  File \"C:\\Users\\anilk\\Anaconda3\\envs\\opencv\\lib\\threading.py\", line 926, in _bootstrap_inner\n",
      "    self.run()\n",
      "  File \"C:\\Users\\anilk\\Anaconda3\\envs\\opencv\\lib\\threading.py\", line 870, in run\n",
      "    self._target(*self._args, **self._kwargs)\n",
      "  File \"<ipython-input-10-702c219b8f08>\", line 22, in start_sound\n",
      "    time.sleep(dur)\n",
      "OverflowError: sleep length is too large\n",
      "\n",
      "Exception in thread Thread-2137:\n",
      "Traceback (most recent call last):\n",
      "  File \"C:\\Users\\anilk\\Anaconda3\\envs\\opencv\\lib\\threading.py\", line 926, in _bootstrap_inner\n",
      "    self.run()\n",
      "  File \"C:\\Users\\anilk\\Anaconda3\\envs\\opencv\\lib\\threading.py\", line 870, in run\n",
      "    self._target(*self._args, **self._kwargs)\n",
      "  File \"<ipython-input-10-702c219b8f08>\", line 22, in start_sound\n",
      "    time.sleep(dur)\n",
      "OverflowError: sleep length is too large\n",
      "\n"
     ]
    },
    {
     "name": "stdout",
     "output_type": "stream",
     "text": [
      "9867000\n",
      "9867000\n"
     ]
    },
    {
     "name": "stderr",
     "output_type": "stream",
     "text": [
      "Exception in thread Thread-2138:\n",
      "Traceback (most recent call last):\n",
      "  File \"C:\\Users\\anilk\\Anaconda3\\envs\\opencv\\lib\\threading.py\", line 926, in _bootstrap_inner\n",
      "    self.run()\n",
      "  File \"C:\\Users\\anilk\\Anaconda3\\envs\\opencv\\lib\\threading.py\", line 870, in run\n",
      "    self._target(*self._args, **self._kwargs)\n",
      "  File \"<ipython-input-10-702c219b8f08>\", line 22, in start_sound\n",
      "    time.sleep(dur)\n",
      "OverflowError: sleep length is too large\n",
      "\n",
      "Exception in thread Thread-2139:\n",
      "Traceback (most recent call last):\n",
      "  File \"C:\\Users\\anilk\\Anaconda3\\envs\\opencv\\lib\\threading.py\", line 926, in _bootstrap_inner\n",
      "    self.run()\n",
      "  File \"C:\\Users\\anilk\\Anaconda3\\envs\\opencv\\lib\\threading.py\", line 870, in run\n",
      "    self._target(*self._args, **self._kwargs)\n",
      "  File \"<ipython-input-10-702c219b8f08>\", line 22, in start_sound\n",
      "    time.sleep(dur)\n",
      "OverflowError: sleep length is too large\n",
      "\n",
      "Exception in thread Thread-2140:\n",
      "Traceback (most recent call last):\n",
      "  File \"C:\\Users\\anilk\\Anaconda3\\envs\\opencv\\lib\\threading.py\", line 926, in _bootstrap_inner\n",
      "    self.run()\n",
      "  File \"C:\\Users\\anilk\\Anaconda3\\envs\\opencv\\lib\\threading.py\", line 870, in run\n",
      "    self._target(*self._args, **self._kwargs)\n",
      "  File \"<ipython-input-10-702c219b8f08>\", line 22, in start_sound\n",
      "    time.sleep(dur)\n",
      "OverflowError: sleep length is too large\n",
      "\n"
     ]
    },
    {
     "name": "stdout",
     "output_type": "stream",
     "text": [
      "9867000\n",
      "9867000\n"
     ]
    },
    {
     "name": "stderr",
     "output_type": "stream",
     "text": [
      "Exception in thread Thread-2141:\n",
      "Traceback (most recent call last):\n",
      "  File \"C:\\Users\\anilk\\Anaconda3\\envs\\opencv\\lib\\threading.py\", line 926, in _bootstrap_inner\n",
      "    self.run()\n",
      "  File \"C:\\Users\\anilk\\Anaconda3\\envs\\opencv\\lib\\threading.py\", line 870, in run\n",
      "    self._target(*self._args, **self._kwargs)\n",
      "  File \"<ipython-input-10-702c219b8f08>\", line 22, in start_sound\n",
      "    time.sleep(dur)\n",
      "OverflowError: sleep length is too large\n",
      "\n",
      "Exception in thread Thread-2142:\n",
      "Traceback (most recent call last):\n",
      "  File \"C:\\Users\\anilk\\Anaconda3\\envs\\opencv\\lib\\threading.py\", line 926, in _bootstrap_inner\n",
      "    self.run()\n",
      "  File \"C:\\Users\\anilk\\Anaconda3\\envs\\opencv\\lib\\threading.py\", line 870, in run\n",
      "    self._target(*self._args, **self._kwargs)\n",
      "  File \"<ipython-input-10-702c219b8f08>\", line 22, in start_sound\n",
      "    time.sleep(dur)\n",
      "OverflowError: sleep length is too large\n",
      "\n"
     ]
    },
    {
     "name": "stdout",
     "output_type": "stream",
     "text": [
      "9867000\n",
      "9867000\n"
     ]
    },
    {
     "name": "stderr",
     "output_type": "stream",
     "text": [
      "Exception in thread Thread-2143:\n",
      "Traceback (most recent call last):\n",
      "  File \"C:\\Users\\anilk\\Anaconda3\\envs\\opencv\\lib\\threading.py\", line 926, in _bootstrap_inner\n",
      "    self.run()\n",
      "  File \"C:\\Users\\anilk\\Anaconda3\\envs\\opencv\\lib\\threading.py\", line 870, in run\n",
      "    self._target(*self._args, **self._kwargs)\n",
      "  File \"<ipython-input-10-702c219b8f08>\", line 22, in start_sound\n",
      "    time.sleep(dur)\n",
      "OverflowError: sleep length is too large\n",
      "\n",
      "Exception in thread Thread-2144:\n",
      "Traceback (most recent call last):\n",
      "  File \"C:\\Users\\anilk\\Anaconda3\\envs\\opencv\\lib\\threading.py\", line 926, in _bootstrap_inner\n",
      "    self.run()\n",
      "  File \"C:\\Users\\anilk\\Anaconda3\\envs\\opencv\\lib\\threading.py\", line 870, in run\n",
      "    self._target(*self._args, **self._kwargs)\n",
      "  File \"<ipython-input-10-702c219b8f08>\", line 22, in start_sound\n",
      "    time.sleep(dur)\n",
      "OverflowError: sleep length is too large\n",
      "\n"
     ]
    },
    {
     "name": "stdout",
     "output_type": "stream",
     "text": [
      "9867000\n",
      "9867000\n"
     ]
    },
    {
     "name": "stderr",
     "output_type": "stream",
     "text": [
      "Exception in thread Thread-2145:\n",
      "Traceback (most recent call last):\n",
      "  File \"C:\\Users\\anilk\\Anaconda3\\envs\\opencv\\lib\\threading.py\", line 926, in _bootstrap_inner\n",
      "    self.run()\n",
      "  File \"C:\\Users\\anilk\\Anaconda3\\envs\\opencv\\lib\\threading.py\", line 870, in run\n",
      "    self._target(*self._args, **self._kwargs)\n",
      "  File \"<ipython-input-10-702c219b8f08>\", line 22, in start_sound\n",
      "    time.sleep(dur)\n",
      "OverflowError: sleep length is too large\n",
      "\n",
      "Exception in thread Thread-2146:\n",
      "Traceback (most recent call last):\n",
      "  File \"C:\\Users\\anilk\\Anaconda3\\envs\\opencv\\lib\\threading.py\", line 926, in _bootstrap_inner\n",
      "    self.run()\n",
      "  File \"C:\\Users\\anilk\\Anaconda3\\envs\\opencv\\lib\\threading.py\", line 870, in run\n",
      "    self._target(*self._args, **self._kwargs)\n",
      "  File \"<ipython-input-10-702c219b8f08>\", line 22, in start_sound\n",
      "    time.sleep(dur)\n",
      "OverflowError: sleep length is too large\n",
      "\n"
     ]
    },
    {
     "name": "stdout",
     "output_type": "stream",
     "text": [
      "9867000\n",
      "9867000\n"
     ]
    },
    {
     "name": "stderr",
     "output_type": "stream",
     "text": [
      "Exception in thread Thread-2147:\n",
      "Traceback (most recent call last):\n",
      "  File \"C:\\Users\\anilk\\Anaconda3\\envs\\opencv\\lib\\threading.py\", line 926, in _bootstrap_inner\n",
      "    self.run()\n",
      "  File \"C:\\Users\\anilk\\Anaconda3\\envs\\opencv\\lib\\threading.py\", line 870, in run\n",
      "    self._target(*self._args, **self._kwargs)\n",
      "  File \"<ipython-input-10-702c219b8f08>\", line 22, in start_sound\n",
      "    time.sleep(dur)\n",
      "OverflowError: sleep length is too large\n",
      "\n",
      "Exception in thread Thread-2148:\n",
      "Traceback (most recent call last):\n",
      "  File \"C:\\Users\\anilk\\Anaconda3\\envs\\opencv\\lib\\threading.py\", line 926, in _bootstrap_inner\n",
      "    self.run()\n",
      "  File \"C:\\Users\\anilk\\Anaconda3\\envs\\opencv\\lib\\threading.py\", line 870, in run\n",
      "    self._target(*self._args, **self._kwargs)\n",
      "  File \"<ipython-input-10-702c219b8f08>\", line 22, in start_sound\n",
      "    time.sleep(dur)\n",
      "OverflowError: sleep length is too large\n",
      "\n"
     ]
    },
    {
     "name": "stdout",
     "output_type": "stream",
     "text": [
      "9867000\n",
      "9867000\n"
     ]
    },
    {
     "name": "stderr",
     "output_type": "stream",
     "text": [
      "Exception in thread Thread-2149:\n",
      "Traceback (most recent call last):\n",
      "  File \"C:\\Users\\anilk\\Anaconda3\\envs\\opencv\\lib\\threading.py\", line 926, in _bootstrap_inner\n",
      "    self.run()\n",
      "  File \"C:\\Users\\anilk\\Anaconda3\\envs\\opencv\\lib\\threading.py\", line 870, in run\n",
      "    self._target(*self._args, **self._kwargs)\n",
      "  File \"<ipython-input-10-702c219b8f08>\", line 22, in start_sound\n",
      "    time.sleep(dur)\n",
      "OverflowError: sleep length is too large\n",
      "\n",
      "Exception in thread Thread-2150:\n",
      "Traceback (most recent call last):\n",
      "  File \"C:\\Users\\anilk\\Anaconda3\\envs\\opencv\\lib\\threading.py\", line 926, in _bootstrap_inner\n",
      "    self.run()\n",
      "  File \"C:\\Users\\anilk\\Anaconda3\\envs\\opencv\\lib\\threading.py\", line 870, in run\n",
      "    self._target(*self._args, **self._kwargs)\n",
      "  File \"<ipython-input-10-702c219b8f08>\", line 22, in start_sound\n",
      "    time.sleep(dur)\n",
      "OverflowError: sleep length is too large\n",
      "\n"
     ]
    },
    {
     "name": "stdout",
     "output_type": "stream",
     "text": [
      "9867000\n",
      "9867000\n"
     ]
    },
    {
     "name": "stderr",
     "output_type": "stream",
     "text": [
      "Exception in thread Thread-2151:\n",
      "Traceback (most recent call last):\n",
      "  File \"C:\\Users\\anilk\\Anaconda3\\envs\\opencv\\lib\\threading.py\", line 926, in _bootstrap_inner\n",
      "    self.run()\n",
      "  File \"C:\\Users\\anilk\\Anaconda3\\envs\\opencv\\lib\\threading.py\", line 870, in run\n",
      "    self._target(*self._args, **self._kwargs)\n",
      "  File \"<ipython-input-10-702c219b8f08>\", line 22, in start_sound\n",
      "    time.sleep(dur)\n",
      "OverflowError: sleep length is too large\n",
      "\n",
      "Exception in thread Thread-2152:\n",
      "Traceback (most recent call last):\n",
      "  File \"C:\\Users\\anilk\\Anaconda3\\envs\\opencv\\lib\\threading.py\", line 926, in _bootstrap_inner\n",
      "    self.run()\n",
      "  File \"C:\\Users\\anilk\\Anaconda3\\envs\\opencv\\lib\\threading.py\", line 870, in run\n",
      "    self._target(*self._args, **self._kwargs)\n",
      "  File \"<ipython-input-10-702c219b8f08>\", line 22, in start_sound\n",
      "    time.sleep(dur)\n",
      "OverflowError: sleep length is too large\n",
      "\n"
     ]
    },
    {
     "name": "stdout",
     "output_type": "stream",
     "text": [
      "9867000\n",
      "9867000\n"
     ]
    },
    {
     "name": "stderr",
     "output_type": "stream",
     "text": [
      "Exception in thread Thread-2153:\n",
      "Traceback (most recent call last):\n",
      "  File \"C:\\Users\\anilk\\Anaconda3\\envs\\opencv\\lib\\threading.py\", line 926, in _bootstrap_inner\n",
      "    self.run()\n",
      "  File \"C:\\Users\\anilk\\Anaconda3\\envs\\opencv\\lib\\threading.py\", line 870, in run\n",
      "    self._target(*self._args, **self._kwargs)\n",
      "  File \"<ipython-input-10-702c219b8f08>\", line 22, in start_sound\n",
      "    time.sleep(dur)\n",
      "OverflowError: sleep length is too large\n",
      "\n",
      "Exception in thread Thread-2154:\n",
      "Traceback (most recent call last):\n",
      "  File \"C:\\Users\\anilk\\Anaconda3\\envs\\opencv\\lib\\threading.py\", line 926, in _bootstrap_inner\n",
      "    self.run()\n",
      "  File \"C:\\Users\\anilk\\Anaconda3\\envs\\opencv\\lib\\threading.py\", line 870, in run\n",
      "    self._target(*self._args, **self._kwargs)\n",
      "  File \"<ipython-input-10-702c219b8f08>\", line 22, in start_sound\n",
      "    time.sleep(dur)\n",
      "OverflowError: sleep length is too large\n",
      "\n"
     ]
    },
    {
     "name": "stdout",
     "output_type": "stream",
     "text": [
      "9867000\n",
      "9867000\n"
     ]
    },
    {
     "name": "stderr",
     "output_type": "stream",
     "text": [
      "Exception in thread Thread-2155:\n",
      "Traceback (most recent call last):\n",
      "  File \"C:\\Users\\anilk\\Anaconda3\\envs\\opencv\\lib\\threading.py\", line 926, in _bootstrap_inner\n",
      "    self.run()\n",
      "  File \"C:\\Users\\anilk\\Anaconda3\\envs\\opencv\\lib\\threading.py\", line 870, in run\n",
      "    self._target(*self._args, **self._kwargs)\n",
      "  File \"<ipython-input-10-702c219b8f08>\", line 22, in start_sound\n",
      "    time.sleep(dur)\n",
      "OverflowError: sleep length is too large\n",
      "\n",
      "Exception in thread Thread-2156:\n",
      "Traceback (most recent call last):\n",
      "  File \"C:\\Users\\anilk\\Anaconda3\\envs\\opencv\\lib\\threading.py\", line 926, in _bootstrap_inner\n",
      "    self.run()\n",
      "  File \"C:\\Users\\anilk\\Anaconda3\\envs\\opencv\\lib\\threading.py\", line 870, in run\n",
      "    self._target(*self._args, **self._kwargs)\n",
      "  File \"<ipython-input-10-702c219b8f08>\", line 22, in start_sound\n",
      "    time.sleep(dur)\n",
      "OverflowError: sleep length is too large\n",
      "\n"
     ]
    },
    {
     "name": "stdout",
     "output_type": "stream",
     "text": [
      "9867000\n",
      "9867000\n"
     ]
    },
    {
     "name": "stderr",
     "output_type": "stream",
     "text": [
      "Exception in thread Thread-2157:\n",
      "Traceback (most recent call last):\n",
      "  File \"C:\\Users\\anilk\\Anaconda3\\envs\\opencv\\lib\\threading.py\", line 926, in _bootstrap_inner\n",
      "    self.run()\n",
      "  File \"C:\\Users\\anilk\\Anaconda3\\envs\\opencv\\lib\\threading.py\", line 870, in run\n",
      "    self._target(*self._args, **self._kwargs)\n",
      "  File \"<ipython-input-10-702c219b8f08>\", line 22, in start_sound\n",
      "    time.sleep(dur)\n",
      "OverflowError: sleep length is too large\n",
      "\n",
      "Exception in thread Thread-2158:\n",
      "Traceback (most recent call last):\n",
      "  File \"C:\\Users\\anilk\\Anaconda3\\envs\\opencv\\lib\\threading.py\", line 926, in _bootstrap_inner\n",
      "    self.run()\n",
      "  File \"C:\\Users\\anilk\\Anaconda3\\envs\\opencv\\lib\\threading.py\", line 870, in run\n",
      "    self._target(*self._args, **self._kwargs)\n",
      "  File \"<ipython-input-10-702c219b8f08>\", line 22, in start_sound\n",
      "    time.sleep(dur)\n",
      "OverflowError: sleep length is too large\n",
      "\n"
     ]
    },
    {
     "name": "stdout",
     "output_type": "stream",
     "text": [
      "9867000\n",
      "9867000\n"
     ]
    },
    {
     "name": "stderr",
     "output_type": "stream",
     "text": [
      "Exception in thread Thread-2159:\n",
      "Traceback (most recent call last):\n",
      "  File \"C:\\Users\\anilk\\Anaconda3\\envs\\opencv\\lib\\threading.py\", line 926, in _bootstrap_inner\n",
      "    self.run()\n",
      "  File \"C:\\Users\\anilk\\Anaconda3\\envs\\opencv\\lib\\threading.py\", line 870, in run\n",
      "    self._target(*self._args, **self._kwargs)\n",
      "  File \"<ipython-input-10-702c219b8f08>\", line 22, in start_sound\n",
      "    time.sleep(dur)\n",
      "OverflowError: sleep length is too large\n",
      "\n",
      "Exception in thread Thread-2160:\n",
      "Traceback (most recent call last):\n",
      "  File \"C:\\Users\\anilk\\Anaconda3\\envs\\opencv\\lib\\threading.py\", line 926, in _bootstrap_inner\n",
      "    self.run()\n",
      "  File \"C:\\Users\\anilk\\Anaconda3\\envs\\opencv\\lib\\threading.py\", line 870, in run\n",
      "    self._target(*self._args, **self._kwargs)\n",
      "  File \"<ipython-input-10-702c219b8f08>\", line 22, in start_sound\n",
      "    time.sleep(dur)\n",
      "OverflowError: sleep length is too large\n",
      "\n"
     ]
    },
    {
     "name": "stdout",
     "output_type": "stream",
     "text": [
      "9867000\n",
      "9867000\n"
     ]
    },
    {
     "name": "stderr",
     "output_type": "stream",
     "text": [
      "Exception in thread Thread-2161:\n",
      "Traceback (most recent call last):\n",
      "  File \"C:\\Users\\anilk\\Anaconda3\\envs\\opencv\\lib\\threading.py\", line 926, in _bootstrap_inner\n",
      "    self.run()\n",
      "  File \"C:\\Users\\anilk\\Anaconda3\\envs\\opencv\\lib\\threading.py\", line 870, in run\n",
      "    self._target(*self._args, **self._kwargs)\n",
      "  File \"<ipython-input-10-702c219b8f08>\", line 22, in start_sound\n",
      "    time.sleep(dur)\n",
      "OverflowError: sleep length is too large\n",
      "\n",
      "Exception in thread Thread-2162:\n",
      "Traceback (most recent call last):\n",
      "  File \"C:\\Users\\anilk\\Anaconda3\\envs\\opencv\\lib\\threading.py\", line 926, in _bootstrap_inner\n",
      "    self.run()\n",
      "  File \"C:\\Users\\anilk\\Anaconda3\\envs\\opencv\\lib\\threading.py\", line 870, in run\n",
      "    self._target(*self._args, **self._kwargs)\n",
      "  File \"<ipython-input-10-702c219b8f08>\", line 22, in start_sound\n",
      "    time.sleep(dur)\n",
      "OverflowError: sleep length is too large\n",
      "\n"
     ]
    },
    {
     "name": "stdout",
     "output_type": "stream",
     "text": [
      "9867000\n",
      "9867000\n"
     ]
    },
    {
     "name": "stderr",
     "output_type": "stream",
     "text": [
      "Exception in thread Thread-2163:\n",
      "Traceback (most recent call last):\n",
      "  File \"C:\\Users\\anilk\\Anaconda3\\envs\\opencv\\lib\\threading.py\", line 926, in _bootstrap_inner\n",
      "    self.run()\n",
      "  File \"C:\\Users\\anilk\\Anaconda3\\envs\\opencv\\lib\\threading.py\", line 870, in run\n",
      "    self._target(*self._args, **self._kwargs)\n",
      "  File \"<ipython-input-10-702c219b8f08>\", line 22, in start_sound\n",
      "    time.sleep(dur)\n",
      "OverflowError: sleep length is too large\n",
      "\n",
      "Exception in thread Thread-2164:\n",
      "Traceback (most recent call last):\n",
      "  File \"C:\\Users\\anilk\\Anaconda3\\envs\\opencv\\lib\\threading.py\", line 926, in _bootstrap_inner\n",
      "    self.run()\n",
      "  File \"C:\\Users\\anilk\\Anaconda3\\envs\\opencv\\lib\\threading.py\", line 870, in run\n",
      "    self._target(*self._args, **self._kwargs)\n",
      "  File \"<ipython-input-10-702c219b8f08>\", line 22, in start_sound\n",
      "    time.sleep(dur)\n",
      "OverflowError: sleep length is too large\n",
      "\n"
     ]
    },
    {
     "name": "stdout",
     "output_type": "stream",
     "text": [
      "9867000\n",
      "9867000\n"
     ]
    },
    {
     "name": "stderr",
     "output_type": "stream",
     "text": [
      "Exception in thread Thread-2165:\n",
      "Traceback (most recent call last):\n",
      "  File \"C:\\Users\\anilk\\Anaconda3\\envs\\opencv\\lib\\threading.py\", line 926, in _bootstrap_inner\n",
      "    self.run()\n",
      "  File \"C:\\Users\\anilk\\Anaconda3\\envs\\opencv\\lib\\threading.py\", line 870, in run\n",
      "    self._target(*self._args, **self._kwargs)\n",
      "  File \"<ipython-input-10-702c219b8f08>\", line 22, in start_sound\n",
      "    time.sleep(dur)\n",
      "OverflowError: sleep length is too large\n",
      "\n",
      "Exception in thread Thread-2166:\n",
      "Traceback (most recent call last):\n",
      "  File \"C:\\Users\\anilk\\Anaconda3\\envs\\opencv\\lib\\threading.py\", line 926, in _bootstrap_inner\n",
      "    self.run()\n",
      "  File \"C:\\Users\\anilk\\Anaconda3\\envs\\opencv\\lib\\threading.py\", line 870, in run\n",
      "    self._target(*self._args, **self._kwargs)\n",
      "  File \"<ipython-input-10-702c219b8f08>\", line 22, in start_sound\n",
      "    time.sleep(dur)\n",
      "OverflowError: sleep length is too large\n",
      "\n"
     ]
    },
    {
     "name": "stdout",
     "output_type": "stream",
     "text": [
      "9867000\n",
      "9867000\n"
     ]
    },
    {
     "name": "stderr",
     "output_type": "stream",
     "text": [
      "Exception in thread Thread-2167:\n",
      "Traceback (most recent call last):\n",
      "  File \"C:\\Users\\anilk\\Anaconda3\\envs\\opencv\\lib\\threading.py\", line 926, in _bootstrap_inner\n",
      "    self.run()\n",
      "  File \"C:\\Users\\anilk\\Anaconda3\\envs\\opencv\\lib\\threading.py\", line 870, in run\n",
      "    self._target(*self._args, **self._kwargs)\n",
      "  File \"<ipython-input-10-702c219b8f08>\", line 22, in start_sound\n",
      "    time.sleep(dur)\n",
      "OverflowError: sleep length is too large\n",
      "\n",
      "Exception in thread Thread-2168:\n",
      "Traceback (most recent call last):\n",
      "  File \"C:\\Users\\anilk\\Anaconda3\\envs\\opencv\\lib\\threading.py\", line 926, in _bootstrap_inner\n",
      "    self.run()\n",
      "  File \"C:\\Users\\anilk\\Anaconda3\\envs\\opencv\\lib\\threading.py\", line 870, in run\n",
      "    self._target(*self._args, **self._kwargs)\n",
      "  File \"<ipython-input-10-702c219b8f08>\", line 22, in start_sound\n",
      "    time.sleep(dur)\n",
      "OverflowError: sleep length is too large\n",
      "\n"
     ]
    },
    {
     "name": "stdout",
     "output_type": "stream",
     "text": [
      "9867000\n",
      "9867000\n"
     ]
    },
    {
     "name": "stderr",
     "output_type": "stream",
     "text": [
      "Exception in thread Thread-2169:\n",
      "Traceback (most recent call last):\n",
      "  File \"C:\\Users\\anilk\\Anaconda3\\envs\\opencv\\lib\\threading.py\", line 926, in _bootstrap_inner\n",
      "    self.run()\n",
      "  File \"C:\\Users\\anilk\\Anaconda3\\envs\\opencv\\lib\\threading.py\", line 870, in run\n",
      "    self._target(*self._args, **self._kwargs)\n",
      "  File \"<ipython-input-10-702c219b8f08>\", line 22, in start_sound\n",
      "    time.sleep(dur)\n",
      "OverflowError: sleep length is too large\n",
      "\n",
      "Exception in thread Thread-2170:\n",
      "Traceback (most recent call last):\n",
      "  File \"C:\\Users\\anilk\\Anaconda3\\envs\\opencv\\lib\\threading.py\", line 926, in _bootstrap_inner\n",
      "    self.run()\n",
      "  File \"C:\\Users\\anilk\\Anaconda3\\envs\\opencv\\lib\\threading.py\", line 870, in run\n",
      "    self._target(*self._args, **self._kwargs)\n",
      "  File \"<ipython-input-10-702c219b8f08>\", line 22, in start_sound\n",
      "    time.sleep(dur)\n",
      "OverflowError: sleep length is too large\n",
      "\n"
     ]
    },
    {
     "name": "stdout",
     "output_type": "stream",
     "text": [
      "9867000\n",
      "9867000\n"
     ]
    },
    {
     "name": "stderr",
     "output_type": "stream",
     "text": [
      "Exception in thread Thread-2171:\n",
      "Traceback (most recent call last):\n",
      "  File \"C:\\Users\\anilk\\Anaconda3\\envs\\opencv\\lib\\threading.py\", line 926, in _bootstrap_inner\n",
      "    self.run()\n",
      "  File \"C:\\Users\\anilk\\Anaconda3\\envs\\opencv\\lib\\threading.py\", line 870, in run\n",
      "    self._target(*self._args, **self._kwargs)\n",
      "  File \"<ipython-input-10-702c219b8f08>\", line 22, in start_sound\n",
      "    time.sleep(dur)\n",
      "OverflowError: sleep length is too large\n",
      "\n",
      "Exception in thread Thread-2172:\n",
      "Traceback (most recent call last):\n",
      "  File \"C:\\Users\\anilk\\Anaconda3\\envs\\opencv\\lib\\threading.py\", line 926, in _bootstrap_inner\n",
      "    self.run()\n",
      "  File \"C:\\Users\\anilk\\Anaconda3\\envs\\opencv\\lib\\threading.py\", line 870, in run\n",
      "    self._target(*self._args, **self._kwargs)\n",
      "  File \"<ipython-input-10-702c219b8f08>\", line 22, in start_sound\n",
      "    time.sleep(dur)\n",
      "OverflowError: sleep length is too large\n",
      "\n",
      "Exception in thread Thread-2173:\n",
      "Traceback (most recent call last):\n",
      "  File \"C:\\Users\\anilk\\Anaconda3\\envs\\opencv\\lib\\threading.py\", line 926, in _bootstrap_inner\n",
      "    self.run()\n",
      "  File \"C:\\Users\\anilk\\Anaconda3\\envs\\opencv\\lib\\threading.py\", line 870, in run\n",
      "    self._target(*self._args, **self._kwargs)\n",
      "  File \"<ipython-input-10-702c219b8f08>\", line 22, in start_sound\n",
      "    time.sleep(dur)\n",
      "OverflowError: sleep length is too large\n",
      "\n"
     ]
    },
    {
     "name": "stdout",
     "output_type": "stream",
     "text": [
      "9867000\n",
      "9867000\n",
      "9867000\n",
      "9867000\n"
     ]
    },
    {
     "name": "stderr",
     "output_type": "stream",
     "text": [
      "Exception in thread Thread-2174:\n",
      "Traceback (most recent call last):\n",
      "  File \"C:\\Users\\anilk\\Anaconda3\\envs\\opencv\\lib\\threading.py\", line 926, in _bootstrap_inner\n",
      "    self.run()\n",
      "  File \"C:\\Users\\anilk\\Anaconda3\\envs\\opencv\\lib\\threading.py\", line 870, in run\n",
      "    self._target(*self._args, **self._kwargs)\n",
      "  File \"<ipython-input-10-702c219b8f08>\", line 22, in start_sound\n",
      "    time.sleep(dur)\n",
      "OverflowError: sleep length is too large\n",
      "\n",
      "Exception in thread Thread-2175:\n",
      "Traceback (most recent call last):\n",
      "  File \"C:\\Users\\anilk\\Anaconda3\\envs\\opencv\\lib\\threading.py\", line 926, in _bootstrap_inner\n",
      "    self.run()\n",
      "  File \"C:\\Users\\anilk\\Anaconda3\\envs\\opencv\\lib\\threading.py\", line 870, in run\n",
      "    self._target(*self._args, **self._kwargs)\n",
      "  File \"<ipython-input-10-702c219b8f08>\", line 22, in start_sound\n",
      "    time.sleep(dur)\n",
      "OverflowError: sleep length is too large\n",
      "\n"
     ]
    },
    {
     "name": "stdout",
     "output_type": "stream",
     "text": [
      "9867000\n",
      "9867000\n"
     ]
    },
    {
     "name": "stderr",
     "output_type": "stream",
     "text": [
      "Exception in thread Thread-2176:\n",
      "Traceback (most recent call last):\n",
      "  File \"C:\\Users\\anilk\\Anaconda3\\envs\\opencv\\lib\\threading.py\", line 926, in _bootstrap_inner\n",
      "    self.run()\n",
      "  File \"C:\\Users\\anilk\\Anaconda3\\envs\\opencv\\lib\\threading.py\", line 870, in run\n",
      "    self._target(*self._args, **self._kwargs)\n",
      "  File \"<ipython-input-10-702c219b8f08>\", line 22, in start_sound\n",
      "    time.sleep(dur)\n",
      "OverflowError: sleep length is too large\n",
      "\n",
      "Exception in thread Thread-2177:\n",
      "Traceback (most recent call last):\n",
      "  File \"C:\\Users\\anilk\\Anaconda3\\envs\\opencv\\lib\\threading.py\", line 926, in _bootstrap_inner\n",
      "    self.run()\n",
      "  File \"C:\\Users\\anilk\\Anaconda3\\envs\\opencv\\lib\\threading.py\", line 870, in run\n",
      "    self._target(*self._args, **self._kwargs)\n",
      "  File \"<ipython-input-10-702c219b8f08>\", line 22, in start_sound\n",
      "    time.sleep(dur)\n",
      "OverflowError: sleep length is too large\n",
      "\n"
     ]
    },
    {
     "name": "stdout",
     "output_type": "stream",
     "text": [
      "9867000\n",
      "9867000\n"
     ]
    },
    {
     "name": "stderr",
     "output_type": "stream",
     "text": [
      "Exception in thread Thread-2178:\n",
      "Traceback (most recent call last):\n",
      "  File \"C:\\Users\\anilk\\Anaconda3\\envs\\opencv\\lib\\threading.py\", line 926, in _bootstrap_inner\n",
      "    self.run()\n",
      "  File \"C:\\Users\\anilk\\Anaconda3\\envs\\opencv\\lib\\threading.py\", line 870, in run\n",
      "    self._target(*self._args, **self._kwargs)\n",
      "  File \"<ipython-input-10-702c219b8f08>\", line 22, in start_sound\n",
      "    time.sleep(dur)\n",
      "OverflowError: sleep length is too large\n",
      "\n",
      "Exception in thread Thread-2179:\n",
      "Traceback (most recent call last):\n",
      "  File \"C:\\Users\\anilk\\Anaconda3\\envs\\opencv\\lib\\threading.py\", line 926, in _bootstrap_inner\n",
      "    self.run()\n",
      "  File \"C:\\Users\\anilk\\Anaconda3\\envs\\opencv\\lib\\threading.py\", line 870, in run\n",
      "    self._target(*self._args, **self._kwargs)\n",
      "  File \"<ipython-input-10-702c219b8f08>\", line 22, in start_sound\n",
      "    time.sleep(dur)\n",
      "OverflowError: sleep length is too large\n",
      "\n"
     ]
    },
    {
     "name": "stdout",
     "output_type": "stream",
     "text": [
      "9867000\n"
     ]
    },
    {
     "name": "stderr",
     "output_type": "stream",
     "text": [
      "Exception in thread Thread-2180:\n",
      "Traceback (most recent call last):\n",
      "  File \"C:\\Users\\anilk\\Anaconda3\\envs\\opencv\\lib\\threading.py\", line 926, in _bootstrap_inner\n",
      "    self.run()\n",
      "  File \"C:\\Users\\anilk\\Anaconda3\\envs\\opencv\\lib\\threading.py\", line 870, in run\n",
      "    self._target(*self._args, **self._kwargs)\n",
      "  File \"<ipython-input-10-702c219b8f08>\", line 22, in start_sound\n",
      "    time.sleep(dur)\n",
      "OverflowError: sleep length is too large\n",
      "\n"
     ]
    }
   ],
   "source": [
    "################### Importing all librires ###########################\n",
    "import cv2\n",
    "import numpy as np\n",
    "import dlib\n",
    "from math import hypot\n",
    "from threading import Thread,Timer\n",
    "import time\n",
    "import vlc\n",
    "p = vlc.MediaPlayer(\"file:///ambulanz.mp3\")\n",
    "\n",
    "################### Preparing initial level variables ###########################\n",
    "font = cv2.FONT_HERSHEY_SIMPLEX\n",
    "cap = cv2.VideoCapture(0)\n",
    "detector = dlib.get_frontal_face_detector()\n",
    "predictor = dlib.shape_predictor('shape_predictor_68_face_landmarks.dat')\n",
    "\n",
    "################### User defined functions###########################\n",
    "def start_sound() : \n",
    "    p.play()\n",
    "    dur = p.get_length() / 1000\n",
    "    time.sleep(dur)\n",
    "\n",
    "def midpt (p1,p2): return (int((p1.x+p2.x)/2) , int((p1.y+p2.y)/2))\n",
    "\n",
    "def display_pts(li,facial_landmarks,color):\n",
    "    for i in li: cv2.circle(frame , \n",
    "                            (facial_landmarks.part(i).x , facial_landmarks.part(i).y) ,\n",
    "                            1 , color , 2)\n",
    "\n",
    "def get_blinking_ratio (eye_points , facial_landmarks) :\n",
    "    left_pt = (facial_landmarks.part(eye_points[0]).x , facial_landmarks.part(eye_points[0]).y) \n",
    "    right_pt = (facial_landmarks.part(eye_points[3]).x , facial_landmarks.part(eye_points[3]).y) \n",
    "    top_pt = midpt (facial_landmarks.part(eye_points[1]) , facial_landmarks.part(eye_points[2]))\n",
    "    btm_pt = midpt (facial_landmarks.part(eye_points[5]) , facial_landmarks.part(eye_points[4]))\n",
    "    hr_ln = cv2.line(frame,left_pt , right_pt , (0,255,0) , 1)\n",
    "    vr_ln = cv2.line(frame,top_pt , btm_pt , (0,255,0) , 1)\n",
    "    hr_ln_len = hypot(left_pt[0]-right_pt[0] , \n",
    "                         left_pt[1]-right_pt[1] )\n",
    "        \n",
    "    vr_ln_len = hypot(top_pt[0]-btm_pt[0] , \n",
    "                         top_pt[1]-btm_pt[1] )\n",
    "        \n",
    "    ratio = hr_ln_len / (vr_ln_len+0.001)\n",
    "    return ratio\n",
    "\n",
    "################### Main function ###########################\n",
    "\n",
    "while True:\n",
    "    _ , frame = cap.read()\n",
    "    gray = cv2.cvtColor(frame,cv2.COLOR_BGR2GRAY)\n",
    "    faces = detector(gray)\n",
    "    for face in faces :\n",
    "        landmarks = predictor(gray,face)\n",
    "        lft_eye_ratio = get_blinking_ratio([36,37,38,39,40,41] , landmarks)\n",
    "        rt_eye_ratio = get_blinking_ratio([42,43,44,45,46,47] , landmarks)\n",
    "        bln_ratio = (lft_eye_ratio + rt_eye_ratio) /2\n",
    "        \n",
    "        if bln_ratio > 5 :\n",
    "            count = count+1\n",
    "            cv2.putText(frame, \"EYES CLOSED\" , (10,30) , font , 0.7 , (0,0,255),2)\n",
    "            cv2.putText(frame, \"COUNTER = \" + str(count) , (10,60) , font , 0.7 , (0,0,255),2)\n",
    "            display_pts(np.arange(36,48),landmarks,(0,0,255))\n",
    "            t = Thread(target=start_sound)\n",
    "            t.deamon = True\n",
    "            if count >= 10: t.start()\n",
    "            \n",
    "        else : \n",
    "            cv2.putText(frame, \"EYES OPEN\" , (10,30) , font , 0.7 , (0,255,0),2)\n",
    "            count = 0\n",
    "            p.stop()\n",
    "            display_pts(np.arange(36,48),landmarks,(0,255,0))\n",
    "    \n",
    "        \n",
    "    cv2.imshow('Frame' , frame)\n",
    "    \n",
    "    key = cv2.waitKey(1)\n",
    "    if key == ord('q') : break\n",
    "\n",
    "\n",
    "\n",
    "cap.release()\n",
    "cv2.destroyAllWindows()"
   ]
  }
 ],
 "metadata": {
  "hide_input": false,
  "kernelspec": {
   "display_name": "Python 3",
   "language": "python",
   "name": "python3"
  },
  "language_info": {
   "codemirror_mode": {
    "name": "ipython",
    "version": 3
   },
   "file_extension": ".py",
   "mimetype": "text/x-python",
   "name": "python",
   "nbconvert_exporter": "python",
   "pygments_lexer": "ipython3",
   "version": "3.7.6"
  }
 },
 "nbformat": 4,
 "nbformat_minor": 4
}
