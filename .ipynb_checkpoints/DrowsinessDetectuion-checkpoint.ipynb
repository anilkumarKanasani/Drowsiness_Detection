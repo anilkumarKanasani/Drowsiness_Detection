{
 "cells": [
  {
   "cell_type": "code",
   "execution_count": 7,
   "metadata": {},
   "outputs": [
    {
     "ename": "AttributeError",
     "evalue": "'MediaPlayer' object has no attribute 'terminate'",
     "output_type": "error",
     "traceback": [
      "\u001b[1;31m---------------------------------------------------------------------------\u001b[0m",
      "\u001b[1;31mAttributeError\u001b[0m                            Traceback (most recent call last)",
      "\u001b[1;32m<ipython-input-7-bf7dbc41149a>\u001b[0m in \u001b[0;36m<module>\u001b[1;34m\u001b[0m\n\u001b[0;32m     78\u001b[0m \u001b[0mcap\u001b[0m\u001b[1;33m.\u001b[0m\u001b[0mrelease\u001b[0m\u001b[1;33m(\u001b[0m\u001b[1;33m)\u001b[0m\u001b[1;33m\u001b[0m\u001b[1;33m\u001b[0m\u001b[0m\n\u001b[0;32m     79\u001b[0m \u001b[0mcv2\u001b[0m\u001b[1;33m.\u001b[0m\u001b[0mdestroyAllWindows\u001b[0m\u001b[1;33m(\u001b[0m\u001b[1;33m)\u001b[0m\u001b[1;33m\u001b[0m\u001b[1;33m\u001b[0m\u001b[0m\n\u001b[1;32m---> 80\u001b[1;33m \u001b[0mp\u001b[0m\u001b[1;33m.\u001b[0m\u001b[0mterminate\u001b[0m\u001b[1;33m(\u001b[0m\u001b[1;33m)\u001b[0m\u001b[1;33m\u001b[0m\u001b[1;33m\u001b[0m\u001b[0m\n\u001b[0m\u001b[0;32m     81\u001b[0m \u001b[1;32mfrom\u001b[0m \u001b[0mproj\u001b[0m\u001b[1;33m.\u001b[0m\u001b[0mcelery\u001b[0m \u001b[1;32mimport\u001b[0m \u001b[0mapp\u001b[0m\u001b[1;33m\u001b[0m\u001b[1;33m\u001b[0m\u001b[0m\n\u001b[0;32m     82\u001b[0m \u001b[0mapp\u001b[0m\u001b[1;33m.\u001b[0m\u001b[0mcontrol\u001b[0m\u001b[1;33m.\u001b[0m\u001b[0mpurge\u001b[0m\u001b[1;33m(\u001b[0m\u001b[1;33m)\u001b[0m\u001b[1;33m\u001b[0m\u001b[1;33m\u001b[0m\u001b[0m\n",
      "\u001b[1;31mAttributeError\u001b[0m: 'MediaPlayer' object has no attribute 'terminate'"
     ]
    }
   ],
   "source": [
    "################### Importing all librires ###########################\n",
    "import cv2\n",
    "import numpy as np\n",
    "import dlib\n",
    "from math import hypot\n",
    "from threading import Thread,Timer\n",
    "import time\n",
    "import vlc\n",
    "p = vlc.MediaPlayer(\"file:///Sample.avi\")\n",
    "\n",
    "################### Preparing initial level variables ###########################\n",
    "font = cv2.FONT_HERSHEY_SIMPLEX\n",
    "cap = cv2.VideoCapture(0)\n",
    "detector = dlib.get_frontal_face_detector()\n",
    "predictor = dlib.shape_predictor('shape_predictor_68_face_landmarks.dat')\n",
    "\n",
    "################### User defined functions###########################\n",
    "def start_sound() : \n",
    "    p.play()\n",
    "    dur = p.get_length()/1000\n",
    "    time.sleep(dur)\n",
    "\n",
    "def midpt (p1,p2): return (int((p1.x+p2.x)/2) , int((p1.y+p2.y)/2))\n",
    "\n",
    "def display_pts(li,facial_landmarks,color):\n",
    "    for i in li: cv2.circle(frame , \n",
    "                            (facial_landmarks.part(i).x , facial_landmarks.part(i).y) ,\n",
    "                            1 , color , 2)\n",
    "\n",
    "def get_blinking_ratio (eye_points , facial_landmarks) :\n",
    "    left_pt = (facial_landmarks.part(eye_points[0]).x , facial_landmarks.part(eye_points[0]).y) \n",
    "    right_pt = (facial_landmarks.part(eye_points[3]).x , facial_landmarks.part(eye_points[3]).y) \n",
    "    top_pt = midpt (facial_landmarks.part(eye_points[1]) , facial_landmarks.part(eye_points[2]))\n",
    "    btm_pt = midpt (facial_landmarks.part(eye_points[5]) , facial_landmarks.part(eye_points[4]))\n",
    "    hr_ln = cv2.line(frame,left_pt , right_pt , (0,255,0) , 1)\n",
    "    vr_ln = cv2.line(frame,top_pt , btm_pt , (0,255,0) , 1)\n",
    "    hr_ln_len = hypot(left_pt[0]-right_pt[0] , \n",
    "                         left_pt[1]-right_pt[1] )\n",
    "        \n",
    "    vr_ln_len = hypot(top_pt[0]-btm_pt[0] , \n",
    "                         top_pt[1]-btm_pt[1] )\n",
    "        \n",
    "    ratio = hr_ln_len / (vr_ln_len+0.001)\n",
    "    return ratio\n",
    "\n",
    "################### Main function ###########################\n",
    "\n",
    "while True:\n",
    "    _ , frame = cap.read()\n",
    "    gray = cv2.cvtColor(frame,cv2.COLOR_BGR2GRAY)\n",
    "    faces = detector(gray)\n",
    "    for face in faces :\n",
    "        landmarks = predictor(gray,face)\n",
    "        lft_eye_ratio = get_blinking_ratio([36,37,38,39,40,41] , landmarks)\n",
    "        rt_eye_ratio = get_blinking_ratio([42,43,44,45,46,47] , landmarks)\n",
    "        bln_ratio = (lft_eye_ratio + rt_eye_ratio) /2\n",
    "        \n",
    "        if bln_ratio > 5 : \n",
    "            cv2.putText(frame, \"CLOSED\" , (10,30) , font , 0.7 , (0,0,255),2)\n",
    "            display_pts(np.arange(36,48),landmarks,(0,0,255))\n",
    "            t = Timer(2.0,function = start_sound)\n",
    "            t.deamon = True\n",
    "            t.start()\n",
    "            \n",
    "        else : \n",
    "            cv2.putText(frame, \"OPEN\" , (10,30) , font , 0.7 , (0,255,0),2)\n",
    "            p.stop()\n",
    "            display_pts(np.arange(36,48),landmarks,(0,255,0))\n",
    "    \n",
    "        \n",
    "    cv2.imshow('Frame' , frame)\n",
    "    \n",
    "    key = cv2.waitKey(1)\n",
    "    if key == ord('q') : break\n",
    "\n",
    "\n",
    "\n",
    "cap.release()\n",
    "cv2.destroyAllWindows()\n",
    "p.terminate()\n",
    "from proj.celery import app\n",
    "app.control.purge()  "
   ]
  },
  {
   "cell_type": "code",
   "execution_count": null,
   "metadata": {},
   "outputs": [],
   "source": [
    "State.Stopped\n",
    "State.Opening\n",
    "State.Playing"
   ]
  }
 ],
 "metadata": {
  "hide_input": false,
  "kernelspec": {
   "display_name": "Python 3",
   "language": "python",
   "name": "python3"
  },
  "language_info": {
   "codemirror_mode": {
    "name": "ipython",
    "version": 3
   },
   "file_extension": ".py",
   "mimetype": "text/x-python",
   "name": "python",
   "nbconvert_exporter": "python",
   "pygments_lexer": "ipython3",
   "version": "3.7.6"
  }
 },
 "nbformat": 4,
 "nbformat_minor": 4
}
