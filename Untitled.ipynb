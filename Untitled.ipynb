{
 "cells": [
  {
   "cell_type": "code",
   "execution_count": 24,
   "metadata": {},
   "outputs": [],
   "source": [
    "import cv2\n",
    "import numpy as np\n",
    "import dlib\n",
    "from math import hypot\n",
    "import winsound\n",
    "\n",
    "font = cv2.FONT_HERSHEY_PLAIN\n",
    "cap = cv2.VideoCapture(0)\n",
    "\n",
    "detector = dlib.get_frontal_face_detector()\n",
    "predictor = dlib.shape_predictor('shape_predictor_68_face_landmarks.dat')\n",
    "\n",
    "def midpt (p1,p2): return (int((p1.x+p2.x)/2) , int((p1.y+p2.y)/2))\n",
    "\n",
    "def get_blinking_ratio (eye_points , facial_landmarks) :\n",
    "    left_pt = (facial_landmarks.part(eye_points[0]).x , facial_landmarks.part(eye_points[0]).y) \n",
    "    right_pt = (facial_landmarks.part(eye_points[3]).x , facial_landmarks.part(eye_points[3]).y) \n",
    "    top_pt = midpt (facial_landmarks.part(eye_points[1]) , facial_landmarks.part(eye_points[2]))\n",
    "    btm_pt = midpt (facial_landmarks.part(eye_points[5]) , facial_landmarks.part(eye_points[4]))\n",
    "    hr_ln = cv2.line(frame,left_pt , right_pt , (0,255,0) , 1)\n",
    "    vr_ln = cv2.line(frame,top_pt , btm_pt , (0,255,0) , 1)\n",
    "    hr_ln_len = hypot(left_pt[0]-right_pt[0] , \n",
    "                         left_pt[1]-right_pt[1] )\n",
    "        \n",
    "    vr_ln_len = hypot(top_pt[0]-btm_pt[0] , \n",
    "                         top_pt[1]-btm_pt[1] )\n",
    "        \n",
    "    ratio = hr_ln_len / (vr_ln_len+0.001)\n",
    "    return ratio\n",
    "\n",
    "while True:\n",
    "    _ , frame = cap.read()\n",
    "    gray = cv2.cvtColor(frame,cv2.COLOR_BGR2GRAY)\n",
    "    faces = detector(gray)\n",
    "    for face in faces :\n",
    "        landmarks = predictor(gray,face)\n",
    "        lft_eye_ratio = get_blinking_ratio([36,37,38,39,40,41] , landmarks)\n",
    "        rt_eye_ratio = get_blinking_ratio([42,43,44,45,46,47] , landmarks)\n",
    "        bln_ratio = (lft_eye_ratio + rt_eye_ratio) /2\n",
    "        if bln_ratio > 5.7 : \n",
    "            cv2.putText(frame, \"CLOSED\" , (50,150) , font , 7 , (255,0,0))\n",
    "            winsound.Beep(200, 1000)\n",
    "        else : \n",
    "            cv2.putText(frame, \"OPEN\" , (50,150) , font , 7 , (255,0,0))\n",
    "    \n",
    "        \n",
    "    cv2.imshow('Frame' , frame)\n",
    "    \n",
    "    key = cv2.waitKey(1)\n",
    "    if key == ord('q') : break\n",
    "\n",
    "cap.release()\n",
    "cv2.destroyAllWindows()\n",
    "    "
   ]
  }
 ],
 "metadata": {
  "hide_input": false,
  "kernelspec": {
   "display_name": "Python 3",
   "language": "python",
   "name": "python3"
  },
  "language_info": {
   "codemirror_mode": {
    "name": "ipython",
    "version": 3
   },
   "file_extension": ".py",
   "mimetype": "text/x-python",
   "name": "python",
   "nbconvert_exporter": "python",
   "pygments_lexer": "ipython3",
   "version": "3.7.6"
  }
 },
 "nbformat": 4,
 "nbformat_minor": 4
}
